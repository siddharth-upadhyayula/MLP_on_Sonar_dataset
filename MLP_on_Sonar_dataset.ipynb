{
  "nbformat": 4,
  "nbformat_minor": 0,
  "metadata": {
    "colab": {
      "name": "MLP_on_Sonar_dataset",
      "provenance": [],
      "collapsed_sections": []
    },
    "kernelspec": {
      "name": "python3",
      "display_name": "Python 3"
    }
  },
  "cells": [
    {
      "cell_type": "code",
      "metadata": {
        "id": "4ukGu6cR4jQC",
        "colab_type": "code",
        "colab": {}
      },
      "source": [
        "import numpy as np\n",
        "import pandas as pd\n",
        "import matplotlib.pyplot as plt"
      ],
      "execution_count": 1,
      "outputs": []
    },
    {
      "cell_type": "code",
      "metadata": {
        "id": "NOEQYeXe6SHx",
        "colab_type": "code",
        "colab": {}
      },
      "source": [
        "dataset = pd.read_csv('sonar.csv', header = None)\n",
        "x = dataset.iloc[:, 0:60].values\n",
        "y = dataset.iloc[:, 60].values"
      ],
      "execution_count": 2,
      "outputs": []
    },
    {
      "cell_type": "code",
      "metadata": {
        "id": "f7V4Gsz66SE1",
        "colab_type": "code",
        "colab": {}
      },
      "source": [
        "from sklearn.preprocessing import LabelEncoder, OneHotEncoder\n",
        "encoder = LabelEncoder()\n",
        "y = encoder.fit_transform(y)"
      ],
      "execution_count": 4,
      "outputs": []
    },
    {
      "cell_type": "code",
      "metadata": {
        "id": "aQG__4c_6SB0",
        "colab_type": "code",
        "colab": {}
      },
      "source": [
        "from sklearn.model_selection import train_test_split\n",
        "x_train, x_test, y_train, y_test = train_test_split(x,y, test_size = 0.25, random_state = 0)"
      ],
      "execution_count": 5,
      "outputs": []
    },
    {
      "cell_type": "code",
      "metadata": {
        "id": "gITS-L5J6R_R",
        "colab_type": "code",
        "colab": {}
      },
      "source": [
        "from sklearn.preprocessing import StandardScaler\n",
        "sc = StandardScaler()\n",
        "x_train = sc.fit_transform(x_train)\n",
        "x_test = sc.transform(x_test)"
      ],
      "execution_count": 6,
      "outputs": []
    },
    {
      "cell_type": "code",
      "metadata": {
        "id": "5JsLJnlQ6R8V",
        "colab_type": "code",
        "colab": {}
      },
      "source": [
        "import keras\n",
        "from keras.models import Sequential\n",
        "from keras.layers import Dense\n",
        "from keras.layers import Dropout"
      ],
      "execution_count": 7,
      "outputs": []
    },
    {
      "cell_type": "code",
      "metadata": {
        "id": "_yRRN0Cu6R4r",
        "colab_type": "code",
        "colab": {}
      },
      "source": [
        "classifier = Sequential()"
      ],
      "execution_count": 8,
      "outputs": []
    },
    {
      "cell_type": "code",
      "metadata": {
        "id": "t5yZHMVi6R2o",
        "colab_type": "code",
        "colab": {}
      },
      "source": [
        "classifier.add(Dense(units = 32, activation = 'relu', kernel_initializer = 'uniform', input_dim = 60))\n",
        "classifier.add(Dropout(rate = 0.1))"
      ],
      "execution_count": 9,
      "outputs": []
    },
    {
      "cell_type": "code",
      "metadata": {
        "id": "pDLTO6rd6Rzk",
        "colab_type": "code",
        "colab": {}
      },
      "source": [
        "classifier.add(Dense(units = 32, activation = 'relu', kernel_initializer = 'uniform'))\n",
        "classifier.add(Dropout(rate = 0.1))"
      ],
      "execution_count": 10,
      "outputs": []
    },
    {
      "cell_type": "code",
      "metadata": {
        "id": "XjyQqKBu8HsQ",
        "colab_type": "code",
        "colab": {}
      },
      "source": [
        "classifier.add(Dense(units = 1, activation = 'sigmoid', kernel_initializer = 'uniform'))"
      ],
      "execution_count": 11,
      "outputs": []
    },
    {
      "cell_type": "code",
      "metadata": {
        "id": "0p3zYy2B8Hy2",
        "colab_type": "code",
        "colab": {}
      },
      "source": [
        "classifier.compile(optimizer = 'adam', loss = 'binary_crossentropy', metrics = ['accuracy'])"
      ],
      "execution_count": 12,
      "outputs": []
    },
    {
      "cell_type": "code",
      "metadata": {
        "id": "qwv00Dyt8H4A",
        "colab_type": "code",
        "colab": {
          "base_uri": "https://localhost:8080/",
          "height": 390
        },
        "outputId": "d0167bc1-bbc1-45f5-f2c5-1a6d847fe2df"
      },
      "source": [
        "classifier.fit(x_train, y_train, batch_size = 10, epochs = 10)"
      ],
      "execution_count": 13,
      "outputs": [
        {
          "output_type": "stream",
          "text": [
            "Epoch 1/10\n",
            "16/16 [==============================] - 0s 1ms/step - loss: 0.6919 - accuracy: 0.6346\n",
            "Epoch 2/10\n",
            "16/16 [==============================] - 0s 1ms/step - loss: 0.6835 - accuracy: 0.7949\n",
            "Epoch 3/10\n",
            "16/16 [==============================] - 0s 1ms/step - loss: 0.6535 - accuracy: 0.8077\n",
            "Epoch 4/10\n",
            "16/16 [==============================] - 0s 1ms/step - loss: 0.5782 - accuracy: 0.8205\n",
            "Epoch 5/10\n",
            "16/16 [==============================] - 0s 1ms/step - loss: 0.4748 - accuracy: 0.8269\n",
            "Epoch 6/10\n",
            "16/16 [==============================] - 0s 1ms/step - loss: 0.3724 - accuracy: 0.8397\n",
            "Epoch 7/10\n",
            "16/16 [==============================] - 0s 1ms/step - loss: 0.3148 - accuracy: 0.8397\n",
            "Epoch 8/10\n",
            "16/16 [==============================] - 0s 1ms/step - loss: 0.2786 - accuracy: 0.8718\n",
            "Epoch 9/10\n",
            "16/16 [==============================] - 0s 1ms/step - loss: 0.2371 - accuracy: 0.8782\n",
            "Epoch 10/10\n",
            "16/16 [==============================] - 0s 1ms/step - loss: 0.2153 - accuracy: 0.8974\n"
          ],
          "name": "stdout"
        },
        {
          "output_type": "execute_result",
          "data": {
            "text/plain": [
              "<tensorflow.python.keras.callbacks.History at 0x7f66b80ff7b8>"
            ]
          },
          "metadata": {
            "tags": []
          },
          "execution_count": 13
        }
      ]
    },
    {
      "cell_type": "code",
      "metadata": {
        "id": "8jYklttW8H1x",
        "colab_type": "code",
        "colab": {}
      },
      "source": [
        "y_pred = classifier.predict(x_test) > 0.5"
      ],
      "execution_count": 14,
      "outputs": []
    },
    {
      "cell_type": "code",
      "metadata": {
        "id": "iM-3E26-8HwT",
        "colab_type": "code",
        "colab": {}
      },
      "source": [
        "from sklearn.metrics import confusion_matrix\n",
        "cm = confusion_matrix(y_test, y_pred)"
      ],
      "execution_count": 17,
      "outputs": []
    }
  ]
}